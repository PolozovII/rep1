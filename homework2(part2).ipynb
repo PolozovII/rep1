{
  "nbformat": 4,
  "nbformat_minor": 0,
  "metadata": {
    "colab": {
      "provenance": []
    },
    "kernelspec": {
      "name": "python3",
      "display_name": "Python 3"
    },
    "language_info": {
      "name": "python"
    }
  },
  "cells": [
    {
      "cell_type": "code",
      "source": [
        "import matplotlib.pyplot as plt\n",
        "from sklearn.datasets import fetch_openml\n",
        "#Загрузка может занять около минуты\n",
        "images, labels = fetch_openml('mnist_784', return_X_y=True, as_frame=False)"
      ],
      "metadata": {
        "id": "DB8eoxT009DC"
      },
      "execution_count": 1,
      "outputs": []
    },
    {
      "cell_type": "code",
      "execution_count": 2,
      "metadata": {
        "id": "18y4R_IH07Pj"
      },
      "outputs": [],
      "source": [
        "import numpy as np #(мне помогли переписать код,но я все понимаю что он из себя представляет и как работает)\n",
        "def dist(arr, centr):\n",
        "    return np.vectorize(lambda i: np.argmin(np.apply_along_axis(lambda c: np.linalg.norm(arr[i] - c), 1, centr)))(np.arange(arr.shape[0]))   \n",
        "def quad_dev(arr, centr, res):\n",
        "    return sum(np.apply_along_axis(np.linalg.norm, 0, arr - centr[res]))\n",
        "def findcenter(arr,res,k):\n",
        "    return np.vectorize(lambda i: np.sum(arr[res == i]) / (arr[res == i].shape[0]))(np.arange(k))\n",
        "\n",
        "def kmeans(arr, k, iter, eps = 0.001):\n",
        "    centr = arr[np.random.randint(0, arr.shape[0], k)]\n",
        "    for i in range(0, iter):  \n",
        "      res = dist(arr, centr)\n",
        "      d1 = quad_dev(arr, centr, res)\n",
        "      d2 = d1\n",
        "      while abs(d2 - d1) > eps:\n",
        "          d1 = d2\n",
        "          centr = findcenter(arr,res,k)\n",
        "          ResourceWarning = dist(arr, centr)\n",
        "          d2 = quad_dev(arr, centr, res)\n",
        "          \n",
        "    return (centr, d2, res)"
      ]
    },
    {
      "cell_type": "code",
      "source": [
        "model = kmeans(images, 10, 5)\n",
        "centers = model[0]"
      ],
      "metadata": {
        "id": "f6CXGKh_0-YL"
      },
      "execution_count": 3,
      "outputs": []
    },
    {
      "cell_type": "code",
      "source": [
        "fig, axes = plt.subplots(1, 10, figsize=(20, 6))\n",
        "\n",
        "for i, ax in enumerate(axes):\n",
        "    ax.imshow(centers[i].reshape(28, 28))\n",
        "    ax.axis('off')"
      ],
      "metadata": {
        "colab": {
          "base_uri": "https://localhost:8080/",
          "height": 125
        },
        "id": "JtZECE0_1Atb",
        "outputId": "9a387e21-3293-43e8-f982-85e7baf31acf"
      },
      "execution_count": 4,
      "outputs": [
        {
          "output_type": "display_data",
          "data": {
            "text/plain": [
              "<Figure size 1440x432 with 10 Axes>"
            ],
            "image/png": "[encoded data removed]"
          },
          "metadata": {
            "needs_background": "light"
          }
        }
      ]
    },
    {
      "cell_type": "code",
      "source": [
        "translate = dict(zip(np.arange(10), [3, 2, 1, 9, 5, 7, 9, 0, 7, 8]))\n",
        "label = [0, 1, 2, 3, 4, 5, 6, 7, 8, 9]\n",
        "new_labels = np.array([translate[i] for i in range(0, 10)])\n",
        "print(new_labels)"
      ],
      "metadata": {
        "colab": {
          "base_uri": "https://localhost:8080/"
        },
        "id": "shRc8vgZ1KNF",
        "outputId": "46cada8f-8284-4543-c028-49198558f9fc"
      },
      "execution_count": 5,
      "outputs": [
        {
          "output_type": "stream",
          "name": "stdout",
          "text": [
            "[3 2 1 9 5 7 9 0 7 8]\n"
          ]
        }
      ]
    },
    {
      "cell_type": "code",
      "source": [
        "new_lab = model[2]\n",
        "sum = 0\n",
        "for i in range(0, 70000):\n",
        "  if(new_lab[i] == int(labels[i])):\n",
        "    sum = sum + 1\n",
        "print(sum)"
      ],
      "metadata": {
        "colab": {
          "base_uri": "https://localhost:8080/"
        },
        "id": "ntuDBvLF1ML9",
        "outputId": "3073569d-fdce-44ba-8a32-2cd7a839c2f3"
      },
      "execution_count": 6,
      "outputs": [
        {
          "output_type": "stream",
          "name": "stdout",
          "text": [
            "4253\n"
          ]
        }
      ]
    }
  ]
}