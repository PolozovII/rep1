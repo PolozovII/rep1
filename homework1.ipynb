{
  "nbformat": 4,
  "nbformat_minor": 0,
  "metadata": {
    "colab": {
      "provenance": []
    },
    "kernelspec": {
      "name": "python3",
      "display_name": "Python 3"
    },
    "language_info": {
      "name": "python"
    }
  },
  "cells": [
    {
      "cell_type": "code",
      "execution_count": 1,
      "metadata": {
        "id": "r4Rze91hpnma"
      },
      "outputs": [],
      "source": [
        "class Test:\n",
        "    @staticmethod\n",
        "    def assert_equals(a, b, *args, **kwargs):\n",
        "        assert a == b\n",
        "        print('Passed')"
      ]
    },
    {
      "cell_type": "code",
      "source": [
        "# problem https://edabit.com/challenge/6R6gReGTGwzpwuffD (3 point)\n",
        "print('num1')\n",
        "def fun1( a ):\n",
        "    for x in a:\n",
        "        while x!=0:\n",
        "            y=x\n",
        "            x = int(x//10)\n",
        "            if (y % 10) == 7:\n",
        "                return \"Boom!\"\n",
        "    return \"there is no 7 in the array\"\n",
        "Test.assert_equals(fun1([2, 6, 7, 9, 3]), \"Boom!\")\n",
        "Test.assert_equals(fun1([33, 68, 400, 5]), \"there is no 7 in the array\")\n",
        "Test.assert_equals(fun1([86, 48, 100, 66]), \"there is no 7 in the array\")\n",
        "Test.assert_equals(fun1([76, 55, 44, 32]), \"Boom!\")\n",
        "Test.assert_equals(fun1([35, 4, 9, 37]), \"Boom!\")"
      ],
      "metadata": {
        "colab": {
          "base_uri": "https://localhost:8080/"
        },
        "id": "9DJE07OgelSj",
        "outputId": "4cf0f79f-c4b0-4317-9c49-8346df57e12e"
      },
      "execution_count": 3,
      "outputs": [
        {
          "output_type": "stream",
          "name": "stdout",
          "text": [
            "num1\n",
            "Passed\n",
            "Passed\n",
            "Passed\n",
            "Passed\n",
            "Passed\n"
          ]
        }
      ]
    },
    {
      "cell_type": "code",
      "source": [
        "#problem https://edabit.com/challenge/eCPim4XcssdZdvs32 (3 point)\n",
        "print('num2')\n",
        "def fun2(a):\n",
        "    i=0\n",
        "    while i<len(a):\n",
        "        t = 0\n",
        "        y = list(a[i])\n",
        "        for z in y:\n",
        "            if z.isdigit():\n",
        "                t = 1\n",
        "        if t != 1:\n",
        "            a.remove(a[i])\n",
        "            i=-1\n",
        "        i+=1\n",
        "    return a\n",
        "Test.assert_equals(fun2(['abc', 'abc10']), ['abc10'])\n",
        "Test.assert_equals(fun2(['abc', 'ab10c',  'a10bc', 'bcd']),['ab10c', 'a10bc'])\n",
        "Test.assert_equals(fun2(['1', 'a',' ','b']), ['1'])\n",
        "Test.assert_equals(fun2(['rct', 'ABC', 'Test', 'xYz']), [])\n",
        "Test.assert_equals(fun2(['this IS','10xYZ', 'xy2K77', 'Z1K2W0', 'xYz']), ['10xYZ', 'xy2K77', 'Z1K2W0'])\n",
        "Test.assert_equals(fun2(['-/>', '10bc', 'abc ']), ['10bc'])"
      ],
      "metadata": {
        "colab": {
          "base_uri": "https://localhost:8080/"
        },
        "id": "im0PWCMxelpX",
        "outputId": "37746b74-799b-4900-98b2-e9c2b53d0fe8"
      },
      "execution_count": 4,
      "outputs": [
        {
          "output_type": "stream",
          "name": "stdout",
          "text": [
            "num2\n",
            "Passed\n",
            "Passed\n",
            "Passed\n",
            "Passed\n",
            "Passed\n",
            "Passed\n"
          ]
        }
      ]
    },
    {
      "cell_type": "code",
      "source": [
        "#problem https://edabit.com/challenge/yXSTvCNen2DQHyrh6 (3 point)\n",
        "print('num3')\n",
        "def fun3 (a):\n",
        "    y=list(a)\n",
        "    s=0\n",
        "    for x in y:\n",
        "        if(type(x)==type([])):\n",
        "            s+=fun3(x)\n",
        "        else:\n",
        "            s+=1\n",
        "    return s\n",
        "Test.assert_equals(fun3([1, [2,3]]), 3)\n",
        "Test.assert_equals(fun3([1, [2, [3, 4]]]), 4)\n",
        "Test.assert_equals(fun3([1, [2, [3, [4, [5, 6]]]]]), 6)\n",
        "Test.assert_equals(fun3([1, 7, 8]), 3)\n",
        "Test.assert_equals(fun3([2]), 1)\n",
        "Test.assert_equals(fun3([2, [3], 4, [7]]), 4)\n",
        "Test.assert_equals(fun3([2, [3, [5, 7]], 4, [7]]), 6)\n",
        "Test.assert_equals(fun3([2, [3, [4, [5]]], [9]]), 5)\n",
        "Test.assert_equals(fun3([]), 0)"
      ],
      "metadata": {
        "colab": {
          "base_uri": "https://localhost:8080/"
        },
        "id": "M_hLwcc3el31",
        "outputId": "714bf5de-b381-4ea1-ba26-2ed238a047ab"
      },
      "execution_count": 5,
      "outputs": [
        {
          "output_type": "stream",
          "name": "stdout",
          "text": [
            "num3\n",
            "Passed\n",
            "Passed\n",
            "Passed\n",
            "Passed\n",
            "Passed\n",
            "Passed\n",
            "Passed\n",
            "Passed\n",
            "Passed\n"
          ]
        }
      ]
    },
    {
      "cell_type": "code",
      "source": [
        "#problem https://edabit.com/challenge/vEY5A5Kq8xsPTQG8S (3 point)\n",
        "print('num4')\n",
        "def fun4 (a,b,c):\n",
        "    a=0 # оно не нужно тк пути одинаковые\n",
        "    return (2*b*c/(b+c))\n",
        "Test.assert_equals(fun4(18, 10, 30), 15)\n",
        "Test.assert_equals(fun4(18, 20, 60), 30)\n",
        "Test.assert_equals(fun4(30, 10, 30), 15)\n",
        "Test.assert_equals(fun4(30, 8, 24), 12)"
      ],
      "metadata": {
        "colab": {
          "base_uri": "https://localhost:8080/"
        },
        "id": "7rd-bTotev80",
        "outputId": "9892c448-98e4-412c-ba80-b474034d8928"
      },
      "execution_count": 6,
      "outputs": [
        {
          "output_type": "stream",
          "name": "stdout",
          "text": [
            "num4\n",
            "Passed\n",
            "Passed\n",
            "Passed\n",
            "Passed\n"
          ]
        }
      ]
    },
    {
      "cell_type": "code",
      "source": [
        "#problem https://edabit.com/challenge/yvJbdkmKHvCNtcZy9 (3 point)\n",
        "print('num5')\n",
        "def fun5 (a):\n",
        "    s=0\n",
        "    n=len(str(a))\n",
        "    r=a\n",
        "    for i in range(n):\n",
        "        y =a\n",
        "        a = int(a / 10)\n",
        "        s += ((y % 10)**(n-i))\n",
        "    if s == r:\n",
        "        return True\n",
        "    return False\n",
        "num_vector, res_vector = [\n",
        "  [6, 75, 135, 466, 372, 175, 1, 696, 876, 89, 518, 598],\n",
        "  [True, False, True, False, False, True, True, False, False, True, True, True]]\n",
        "for j, n in enumerate(num_vector): Test.assert_equals(fun5(n), res_vector[j])"
      ],
      "metadata": {
        "colab": {
          "base_uri": "https://localhost:8080/"
        },
        "id": "y_yw4obNezkZ",
        "outputId": "ddb54a7c-b7d9-48fd-c7ee-847c7551705f"
      },
      "execution_count": 7,
      "outputs": [
        {
          "output_type": "stream",
          "name": "stdout",
          "text": [
            "num5\n",
            "Passed\n",
            "Passed\n",
            "Passed\n",
            "Passed\n",
            "Passed\n",
            "Passed\n",
            "Passed\n",
            "Passed\n",
            "Passed\n",
            "Passed\n",
            "Passed\n",
            "Passed\n"
          ]
        }
      ]
    }
  ]
}
