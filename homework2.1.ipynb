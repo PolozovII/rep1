{
  "nbformat": 4,
  "nbformat_minor": 0,
  "metadata": {
    "colab": {
      "provenance": []
    },
    "kernelspec": {
      "name": "python3",
      "display_name": "Python 3"
    },
    "language_info": {
      "name": "python"
    }
  },
  "cells": [
    {
      "cell_type": "markdown",
      "source": [
        "№1\n"
      ],
      "metadata": {
        "id": "OmlY1w4CA7mU"
      }
    },
    {
      "cell_type": "code",
      "execution_count": null,
      "metadata": {
        "id": "UDGOr8RrwwmL"
      },
      "outputs": [],
      "source": [
        "import numpy as np\n",
        "c = np.vstack(( np.zeros(4), np.diag([1, 2, 3 , 4])))\n",
        "b = np.zeros(5).reshape(-1, 1)\n",
        "c = np.hstack((c, b))\n",
        "print(c)"
      ]
    },
    {
      "cell_type": "markdown",
      "source": [],
      "metadata": {
        "id": "GEiNQ0fz02YH"
      }
    },
    {
      "cell_type": "markdown",
      "source": [
        "№2"
      ],
      "metadata": {
        "id": "immq-q_cnSKl"
      }
    },
    {
      "cell_type": "code",
      "source": [
        "x = np.random.random((10, 3))\n",
        "np.array([x[i] for i in zip(np.arange(0, 10), np.argmin(np.abs(x - 0.5), axis=1))])"
      ],
      "metadata": {
        "id": "8bntBHXDA4hu"
      },
      "execution_count": null,
      "outputs": []
    },
    {
      "cell_type": "markdown",
      "source": [
        "№3"
      ],
      "metadata": {
        "id": "bqQ_wCI4Bm2o"
      }
    },
    {
      "cell_type": "code",
      "source": [
        "matrix = np.random.random((6, 6))\n",
        "np.sum(matrix, axis=1) / np.max(matrix, axis=1)"
      ],
      "metadata": {
        "id": "_bHQyl3ZBnQD"
      },
      "execution_count": null,
      "outputs": []
    },
    {
      "cell_type": "markdown",
      "source": [
        "№4"
      ],
      "metadata": {
        "id": "gM4GLdGSEr32"
      }
    },
    {
      "cell_type": "code",
      "source": [
        "x = np.array([6, 2, 0, 3, 0, 0, 5, 7, 0])\n",
        "np.max(x[(np.argwhere(x == 0) + 1) % x.shape])"
      ],
      "metadata": {
        "id": "moFhIHN9EsYl"
      },
      "execution_count": null,
      "outputs": []
    },
    {
      "cell_type": "markdown",
      "source": [
        "№5"
      ],
      "metadata": {
        "id": "3u6QIt2YFdqu"
      }
    },
    {
      "cell_type": "code",
      "source": [
        "x = np.ones(10)\n",
        "i = np.array([0, 1, 2, 3, 5, 5, 5, 8])\n",
        "x[np.unique(i , return_counts=True)[0]] += np.unique(i , return_counts=True)[1]\n",
        "print(x)"
      ],
      "metadata": {
        "id": "1Yq3yVxHFd8s"
      },
      "execution_count": null,
      "outputs": []
    },
    {
      "cell_type": "markdown",
      "source": [
        "№6 (1 из, есть куча всяких разных)"
      ],
      "metadata": {
        "id": "J_PGpVqdGFkh"
      }
    },
    {
      "cell_type": "code",
      "source": [
        "import numpy as np\n",
        "M = np.random.random((10))\n",
        "print(M)\n",
        "for i in range(M.shape[0]):\n",
        "  if(M[i]-round(M[i])>=0.5):\n",
        "    print(round(M[i])+1)\n",
        "  else:\n",
        "    print(round(M[i]))"
      ],
      "metadata": {
        "id": "_9oMZF7_GFJK"
      },
      "execution_count": null,
      "outputs": []
    },
    {
      "cell_type": "code",
      "source": [],
      "metadata": {
        "id": "qsbRjF0sunIJ"
      },
      "execution_count": null,
      "outputs": []
    },
    {
      "cell_type": "markdown",
      "source": [
        "7-8(во 2ом файле,не знаю почему но он выдает ошибку в этом фалйе но не выдает ее в пустом)"
      ],
      "metadata": {
        "id": "sXZgGCnexobL"
      }
    }
  ]
}
