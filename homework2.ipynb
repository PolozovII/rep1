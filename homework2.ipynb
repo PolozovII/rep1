{
  "nbformat": 4,
  "nbformat_minor": 0,
  "metadata": {
    "colab": {
      "provenance": []
    },
    "kernelspec": {
      "name": "python3",
      "display_name": "Python 3"
    },
    "language_info": {
      "name": "python"
    }
  },
  "cells": [
    {
      "cell_type": "markdown",
      "source": [
        "№1\n"
      ],
      "metadata": {
        "id": "OmlY1w4CA7mU"
      }
    },
    {
      "cell_type": "code",
      "execution_count": 10,
      "metadata": {
        "colab": {
          "base_uri": "https://localhost:8080/"
        },
        "id": "UDGOr8RrwwmL",
        "outputId": "16d7c958-206b-433a-80db-0ec5fc6cc9d1"
      },
      "outputs": [
        {
          "output_type": "stream",
          "name": "stdout",
          "text": [
            "[[0. 0. 0. 0. 0.]\n",
            " [1. 0. 0. 0. 0.]\n",
            " [0. 1. 0. 0. 0.]\n",
            " [0. 0. 1. 0. 0.]\n",
            " [0. 0. 0. 1. 0.]]\n"
          ]
        }
      ],
      "source": [
        "import numpy as np\n",
        "m=np.zeros((5,5))\n",
        "for i in range(5):\n",
        "  for j in range(5):\n",
        "    if(i==j+1): m[i,j]+=1\n",
        "print(m)"
      ]
    },
    {
      "cell_type": "markdown",
      "source": [
        "№2"
      ],
      "metadata": {
        "id": "-oga0EPRA5z9"
      }
    },
    {
      "cell_type": "code",
      "source": [
        "import numpy as np\n",
        "M = np.random.random((10,3))\n",
        "print(M)\n",
        "for i in range(M.shape[0]):\n",
        "    print(M[i,np.argmin(np.absolute(M[i]-0.5))])"
      ],
      "metadata": {
        "colab": {
          "base_uri": "https://localhost:8080/"
        },
        "id": "8bntBHXDA4hu",
        "outputId": "658a43c1-f19f-47ba-cfc8-2d89e960e0ad"
      },
      "execution_count": 2,
      "outputs": [
        {
          "output_type": "stream",
          "name": "stdout",
          "text": [
            "[[0.58983728 0.29711405 0.16570236]\n",
            " [0.5708946  0.87363816 0.06597195]\n",
            " [0.17150434 0.97852725 0.18839536]\n",
            " [0.65796177 0.72215395 0.04822884]\n",
            " [0.70408217 0.70018179 0.85803623]\n",
            " [0.3278159  0.09628019 0.40848758]\n",
            " [0.32791091 0.4235579  0.79037177]\n",
            " [0.72099121 0.24644563 0.55291889]\n",
            " [0.07341535 0.51731755 0.66871815]\n",
            " [0.78659709 0.24834501 0.40346789]]\n",
            "0.5898372806492531\n",
            "0.5708946045489168\n",
            "0.1883953645419829\n",
            "0.6579617657592554\n",
            "0.7001817949259617\n",
            "0.4084875753960383\n",
            "0.42355790478884736\n",
            "0.5529188893552001\n",
            "0.5173175546053945\n",
            "0.4034678940625044\n"
          ]
        }
      ]
    },
    {
      "cell_type": "markdown",
      "source": [
        "№3"
      ],
      "metadata": {
        "id": "bqQ_wCI4Bm2o"
      }
    },
    {
      "cell_type": "code",
      "source": [
        "M = np.random.random((6,6))\n",
        "print(M)\n",
        "for i in range(M.shape[0]):\n",
        "    print(np.sum(M[i])/np.min(M[:,i]))"
      ],
      "metadata": {
        "colab": {
          "base_uri": "https://localhost:8080/"
        },
        "id": "_bHQyl3ZBnQD",
        "outputId": "10ffd3d8-795b-4661-ee1f-9b27ac5fcccf"
      },
      "execution_count": 3,
      "outputs": [
        {
          "output_type": "stream",
          "name": "stdout",
          "text": [
            "[[0.24858753 0.44447995 0.87121361 0.76142946 0.8220757  0.81520862]\n",
            " [0.5664015  0.56120854 0.73323655 0.8078024  0.91663648 0.52870632]\n",
            " [0.34752287 0.3028328  0.86195649 0.40054074 0.09165893 0.48707745]\n",
            " [0.0946887  0.09966777 0.41614412 0.24148084 0.49258602 0.60337917]\n",
            " [0.03307842 0.95776425 0.47491114 0.39907713 0.37693921 0.28873874]\n",
            " [0.94790937 0.83481807 0.34710329 0.95414878 0.84522778 0.06628516]]\n",
            "119.80605311580617\n",
            "41.27705188581491\n",
            "7.17823587925517\n",
            "8.066671563689669\n",
            "27.607881555829284\n",
            "60.277333414899715\n"
          ]
        }
      ]
    },
    {
      "cell_type": "markdown",
      "source": [
        "№4"
      ],
      "metadata": {
        "id": "gM4GLdGSEr32"
      }
    },
    {
      "cell_type": "code",
      "source": [
        "m = np.array([6, 2, 0, 3, 0, 0, 5, 7, 0])\n",
        "m=[m[i] for i in range(1,m.shape[0]) if (m[i-1]==0)]\n",
        "print(np.max(m))"
      ],
      "metadata": {
        "colab": {
          "base_uri": "https://localhost:8080/"
        },
        "id": "moFhIHN9EsYl",
        "outputId": "717cddf3-3915-4a74-c29d-897ac9a29be8"
      },
      "execution_count": 4,
      "outputs": [
        {
          "output_type": "stream",
          "name": "stdout",
          "text": [
            "5\n"
          ]
        }
      ]
    },
    {
      "cell_type": "markdown",
      "source": [
        "№5"
      ],
      "metadata": {
        "id": "3u6QIt2YFdqu"
      }
    },
    {
      "cell_type": "code",
      "source": [
        "x = np.ones(10)\n",
        "i = np.array([0, 1, 2, 3, 5, 5, 5, 8])\n",
        "for j in range(x.shape[0]):\n",
        "    c=0\n",
        "    for k in range(i.shape[0]): \n",
        "        if (i[k]==j): x[j]+=1\n",
        "print(x)"
      ],
      "metadata": {
        "colab": {
          "base_uri": "https://localhost:8080/"
        },
        "id": "1Yq3yVxHFd8s",
        "outputId": "bbb2936f-5274-40ab-8b3c-c3193258d528"
      },
      "execution_count": 6,
      "outputs": [
        {
          "output_type": "stream",
          "name": "stdout",
          "text": [
            "[2. 2. 2. 2. 1. 4. 1. 1. 2. 1.]\n"
          ]
        }
      ]
    },
    {
      "cell_type": "markdown",
      "source": [
        "№6 (1 из, есть куча всяких разных)"
      ],
      "metadata": {
        "id": "J_PGpVqdGFkh"
      }
    },
    {
      "cell_type": "code",
      "source": [
        "import numpy as np\n",
        "M = np.random.random((10))\n",
        "print(M)\n",
        "for i in range(M.shape[0]):\n",
        "  if(M[i]-round(M[i])>=0.5):\n",
        "    print(round(M[i])+1)\n",
        "  else:\n",
        "    print(round(M[i]))"
      ],
      "metadata": {
        "colab": {
          "base_uri": "https://localhost:8080/"
        },
        "id": "_9oMZF7_GFJK",
        "outputId": "2746d4ac-18e0-4005-9842-b20209a9bfca"
      },
      "execution_count": 21,
      "outputs": [
        {
          "output_type": "stream",
          "name": "stdout",
          "text": [
            "[0.09668048 0.43274066 0.468611   0.61897898 0.94605995 0.85665303\n",
            " 0.11944608 0.12704258 0.54103989 0.20823275]\n",
            "0\n",
            "0\n",
            "0\n",
            "1\n",
            "1\n",
            "1\n",
            "0\n",
            "0\n",
            "1\n",
            "0\n"
          ]
        }
      ]
    },
    {
      "cell_type": "markdown",
      "source": [
        "№7"
      ],
      "metadata": {
        "id": "VQwk9f47OfgA"
      }
    },
    {
      "cell_type": "code",
      "source": [
        "def kmeans(a, k, max_iter = 10, theshold = 1e-3,dist = -1):\n",
        "  N = np.shape(a)[0]\n",
        "  M = np.shape(a)[1]\n",
        "  if type (k) == int and k > 0:\n",
        "    count_centr = k\n",
        "    centr = a[np.random.choice (N, count_centr, replace = False)]\n",
        "  else:\n",
        "    raise\n",
        "  if (np.shape(centr)[1] != np.shape(a)[1]):\n",
        "        raise\n",
        "  x = centr[[np.argmin( np.sum((centr-i)**2, axis = 1)) for i in a]]\n",
        "  centr, y = np.unique(x, axis=0, return_inverse=True)\n",
        "  new_centr = np.zeros (np.shape(centr))\n",
        "  for i in range (N):\n",
        "    new_centr[y[i]] += a[i]/np.count_nonzero (y==y[i])\n",
        "  new_dist = np.sum((a - new_centr[y])**2)\n",
        "\n",
        "  if ( (dist >= 0 and dist - new_dist < theshold) or max_iter == 1):\n",
        "    return new_centr, new_dist\n",
        "  return kmeans (a, new_centr, max_iter-1, theshold, new_dist)"
      ],
      "metadata": {
        "id": "OTLat57kOfzZ"
      },
      "execution_count": 25,
      "outputs": []
    },
    {
      "cell_type": "markdown",
      "source": [
        "проблема с загрузкой датасета(все ломается)"
      ],
      "metadata": {
        "id": "l4drE9f1aFKY"
      }
    }
  ]
}